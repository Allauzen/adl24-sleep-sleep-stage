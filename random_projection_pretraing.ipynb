{
 "cells": [
  {
   "cell_type": "code",
   "execution_count": 5,
   "metadata": {},
   "outputs": [],
   "source": [
    "import numpy as np\n",
    "import matplotlib.pyplot as plt\n",
    "import torch  as th\n",
    "import torch.autograd as autograd\n",
    "import torch.nn as nn\n",
    "import torch.nn.functional as F\n",
    "import torch.optim as optim\n",
    "import pickle\n",
    "import pandas as pd\n",
    "import seaborn as sns\n",
    "import random\n",
    "from tqdm import tqdm\n",
    "from transformers import Wav2Vec2Model\n",
    "from torch.utils.data import TensorDataset, DataLoader\n",
    "import copy\n"
   ]
  },
  {
   "cell_type": "code",
   "execution_count": 2,
   "metadata": {},
   "outputs": [],
   "source": [
    "###### Set the device to use Apple M1 GPU #######\n",
    "device = th.device('mps')"
   ]
  },
  {
   "cell_type": "code",
   "execution_count": 94,
   "metadata": {},
   "outputs": [],
   "source": [
    "class RandomProjectionQuantizer(nn.Module):\n",
    "    def __init__(self, input_dim, quantizer_dim, codebook_size, random_state=None, device='cpu'):\n",
    "        super().__init__()\n",
    "        self.random_projection = nn.Linear(input_dim, quantizer_dim, bias=False)\n",
    "        nn.init.xavier_uniform_(self.random_projection.weight)\n",
    "\n",
    "        self.code_book = nn.Parameter(th.randn(quantizer_dim, codebook_size)).to(device).detach().requires_grad_(False)\n",
    "\n",
    "        self.random_projection.weight.requires_grad = False\n",
    "        #self.code_book.requires_grad = False\n",
    "\n",
    "        self.device = device\n",
    "        if random_state is not None:\n",
    "            th.manual_seed(random_state)\n",
    "\n",
    "    @th.no_grad()\n",
    "    def forward(self, input_values: th.Tensor, mask_time_indices: th.Tensor) -> th.Tensor:\n",
    "        \"\"\"\n",
    "        Args:\n",
    "            input_values (torch.Tensor): with shape `(B, L, D)`\n",
    "            mask_time_indices (torch.Tensor): with shape `(B, L)`\n",
    "\n",
    "        Returns:\n",
    "            torch.Tensor with shape `(N)`\n",
    "\n",
    "        \"\"\"\n",
    "        shape = input_values.shape\n",
    "        targets = self.random_projection(input_values)\n",
    "\n",
    "        repeated_code_book = self.code_book.unsqueeze(0).unsqueeze(0).expand(shape[0], shape[1], -1, -1)\n",
    "\n",
    "        # Effectuer l'opération de soustraction\n",
    "        vector_distances = th.norm(targets.unsqueeze(-1).expand_as(repeated_code_book) - repeated_code_book, dim=2)\n",
    "\n",
    "\n",
    "        labels = th.argmin(vector_distances, dim=-1)\n",
    "\n",
    "        return labels\n",
    "\n",
    "class ASREncoder_technique(nn.Module):\n",
    "    def __init__(self, input_dim, num_classes, hidden_dim=256, num_layers=5, dropout=0.1):\n",
    "        super(ASREncoder, self).__init__()\n",
    "\n",
    "        # Feature extractor (Wav2Vec2 model)\n",
    "        self.feature_extractor = Wav2Vec2Model.from_pretrained(\"facebook/wav2vec2-base-960h\")\n",
    "        self.feature_extractor.freeze_feature_extractor()  # Freeze feature extractor\n",
    "\n",
    "        # Conformer layers\n",
    "        conformer_layers = []\n",
    "        for _ in range(num_layers):\n",
    "            conformer_layers.append(nn.TransformerEncoderLayer(\n",
    "                d_model=input_dim,\n",
    "                nhead=4,\n",
    "                dim_feedforward=hidden_dim,\n",
    "                dropout=dropout,\n",
    "                activation='gelu'\n",
    "            ))\n",
    "        self.conformer_encoder = nn.TransformerEncoder(nn.ModuleList(conformer_layers), num_layers=num_layers)\n",
    "\n",
    "        # Classifier head\n",
    "        self.classifier = nn.Linear(input_dim, num_classes)\n",
    "\n",
    "    def forward(self, x):\n",
    "        # Extract features using the pre-trained Wav2Vec2 model\n",
    "        features = self.feature_extractor(x).last_hidden_state\n",
    "\n",
    "        # Transpose features for Transformer input format (seq_len, batch_size, hidden_dim)\n",
    "        features = features.permute(1, 0, 2)\n",
    "\n",
    "        # Apply Conformer layers\n",
    "        features = self.conformer_encoder(features)\n",
    "\n",
    "        # Average pooling over time\n",
    "        pooled_features = torch.mean(features, dim=0)\n",
    "\n",
    "        # Classification\n",
    "        output = self.classifier(pooled_features)\n",
    "\n",
    "        return output\n",
    "\n",
    "class ExampleEncoder(nn.Module):\n",
    "    def __init__(self):\n",
    "        super().__init__()\n",
    "        self.linear = nn.Linear(80, 192)\n",
    "        self.num_temporal_dimension_reduction_steps = 4\n",
    "\n",
    "    def forward(self, inputs, _):\n",
    "        batch_size, length, _ = inputs.size()\n",
    "\n",
    "        hidden_states = self.linear(inputs)\n",
    "        hidden_states = hidden_states.view(batch_size, length, -1)\n",
    "\n",
    "        return hidden_states\n",
    "\n",
    "class BestRqFramework(nn.Module):\n",
    "    def __init__(self, encoder: nn.Module, num_temporal_dimension_reduction_steps: int, input_feature_size: int, encoder_hidden_size: int, num_code_books: int,\n",
    "                 mask_time: int, stride_time: int, random_state : int, mask_prob: float = 0.1, batch_size : int = 200, num_masks_per_signal :int = 2):\n",
    "        super().__init__()\n",
    "        self.K = num_temporal_dimension_reduction_steps\n",
    "        self.random_state = random_state\n",
    "        self.batch_size = batch_size\n",
    "        self.layer_norm = nn.LayerNorm(input_feature_size)\n",
    "        self.random_projection_quantizer = RandomProjectionQuantizer(input_feature_size, encoder_hidden_size, num_code_books, random_state = random_state)\n",
    "        self.encoder = encoder\n",
    "        self.out_linear = nn.Linear(192, num_code_books)\n",
    "        self.num_time_steps = int(mask_time // (stride_time * self.K))\n",
    "        self.mask_prob = mask_prob\n",
    "        self.mask_time = mask_time\n",
    "        self.num_masks_per_signal = num_masks_per_signal\n",
    "\n",
    "    def split_batch(self, X, y):\n",
    "        dataset = TensorDataset(X, y)\n",
    "        data_loader = DataLoader(dataset, batch_size=self.batch_size, shuffle=True)\n",
    "        return data_loader\n",
    "\n",
    "\n",
    "    def forward(self, input_values: th.Tensor, input_lengths: th.Tensor):\n",
    "        \"\"\"\n",
    "        Args:\n",
    "            input_values (th.Tensor): with shape `(B, T, D)`\n",
    "            input_lengths (th.Tensor): with shape `(B)`\n",
    "\n",
    "        Returns:\n",
    "\n",
    "        \"\"\"\n",
    "\n",
    "        batch_size, num_steps, hidden_size = input_values.size()\n",
    "\n",
    "\n",
    "        input_values = self.layer_norm(input_values)\n",
    "\n",
    "        quantized_input_lengths = input_lengths // self.K - 1\n",
    "\n",
    "        masked_input_values, time_mask_indices = self.masking(input_values.clone())\n",
    "\n",
    "        labels = self.random_projection_quantizer(input_values, time_mask_indices)\n",
    "\n",
    "\n",
    "        encoder_out = self.encoder(masked_input_values, input_lengths)\n",
    "\n",
    "        print (encoder_out.shape, time_mask_indices.shape, masked_input_values.shape)\n",
    "        targets = encoder_out[time_mask_indices]\n",
    "        targets_out = self.out_linear(targets)\n",
    "\n",
    "        return targets_out, labels\n",
    "\n",
    "\n",
    "\n",
    "    def masking(self, input_tensor, min_mask=0):\n",
    "        \"\"\"\n",
    "        Generate a mask to randomly mask a subset of values based on the input tensor and probability.\n",
    "\n",
    "        Args:\n",
    "        - input_tensor (torch.Tensor): Input tensor for which the mask needs to be generated.\n",
    "        - prob (float): Probability of masking each valid position.\n",
    "        - min_mask (float): Minimum number of positions to mask.\n",
    "\n",
    "        Returns:\n",
    "        - subset_mask (torch.Tensor): Binary mask indicating positions to be masked (True) and positions to be kept (False).\n",
    "        \"\"\"\n",
    "        batch, seq, device = *input_tensor.shape[:-1], input_tensor.device\n",
    "        seq_mask = th.ones((batch, seq), dtype=th.bool, device=device)  # Assume all positions are valid\n",
    "\n",
    "        num_to_mask = (seq_mask.sum(dim=-1, keepdim=True) * self.mask_prob).clamp(min=min_mask)\n",
    "        logits = th.rand((batch, seq), device=device)\n",
    "        logits = logits.masked_fill(~seq_mask, -1)\n",
    "\n",
    "        randperm = logits.argsort(dim=-1).float()\n",
    "\n",
    "        num_padding = (~seq_mask).sum(dim=-1, keepdim=True)\n",
    "        randperm -= num_padding\n",
    "\n",
    "        subset_mask = randperm < num_to_mask\n",
    "        subset_mask.masked_fill_(~seq_mask, False)\n",
    "        masked_tensor = input_tensor.clone()\n",
    "        values_to_change = masked_tensor[subset_mask].clone()\n",
    "        shape = values_to_change.shape\n",
    "        for _ in range(self.num_masks_per_signal):\n",
    "            idx = random.randint(0, int(shape[1]))\n",
    "            if idx + self.mask_time <= shape[1]:\n",
    "                values_to_change[:, idx:idx+self.mask_time] = th.normal(mean = 0, std = 0.1, device = device, size= (shape[0], self.mask_time))\n",
    "        masked_tensor[subset_mask] = values_to_change\n",
    "        return masked_tensor, subset_mask\n",
    "\n",
    "\n",
    "    def pretrain(self, xtrain, ytrain, xvalid, yvalid, epochs=10, batch_size=32, lr = 1e-3):\n",
    "        # Initialize quantizer\n",
    "        self.quantizer.initialize_quantizer()\n",
    "        trainloader = self.split_batch(xtrain, ytrain)\n",
    "        self.optimizer = optim.Adam(self.asr_encoder.parameters(), lr= lr)\n",
    "\n",
    "        # Iterate over epochs\n",
    "        for epoch in range(epochs):\n",
    "            epoch_loss = 0.0\n",
    "\n",
    "            for inputs, labels in trainloader:\n",
    "\n",
    "                # Zero gradients\n",
    "                self.optimizer.zero_grad()\n",
    "\n",
    "                inputs = inputs.to(device)\n",
    "                # Forward pass\n",
    "                labels = self.quantizer.quantize(inputs)\n",
    "                masked_inputs = self.add_noise_and_mask(inputs)\n",
    "                predictions = self.asr_encoder(masked_inputs)\n",
    "\n",
    "                # Compute loss\n",
    "                loss = self.loss_function(predictions, labels)\n",
    "\n",
    "                # Backward pass\n",
    "                loss.backward()\n",
    "\n",
    "                # Update weights\n",
    "                self.optimizer.step()\n",
    "\n",
    "                epoch_loss += loss.item()\n",
    "\n",
    "            # Print epoch loss\n",
    "            print(f\"Pretraining Epoch {epoch+1}/{epochs}, Loss: {epoch_loss / len(xtrain)}\")\n"
   ]
  },
  {
   "cell_type": "code",
   "execution_count": null,
   "metadata": {},
   "outputs": [],
   "source": []
  },
  {
   "cell_type": "code",
   "execution_count": 8,
   "metadata": {},
   "outputs": [
    {
     "data": {
      "text/plain": [
       "(600, torch.Size([175995, 600]))"
      ]
     },
     "execution_count": 8,
     "metadata": {},
     "output_type": "execute_result"
    }
   ],
   "source": [
    "filepath = 'data/cassette-th-data.pck'\n",
    "xtrain, xvalid, ytrain, yvalid = np.load(filepath, allow_pickle = True)\n",
    "input_dim = xtrain[0].shape\n",
    "input_dim[0], xtrain.shape"
   ]
  },
  {
   "cell_type": "code",
   "execution_count": 10,
   "metadata": {},
   "outputs": [
    {
     "data": {
      "text/plain": [
       "tensor([[16,  4,  8,  ..., 15,  9, 10]])"
      ]
     },
     "execution_count": 10,
     "metadata": {},
     "output_type": "execute_result"
    }
   ],
   "source": [
    "device = 'cpu'\n",
    "tmp = RandomProjectionQuantizer(input_dim= 600, quantizer_dim= 100, codebook_size= 20,random_state= 2673834267383, device = device)\n",
    "input_size = (175995, 600)\n",
    "mask_time_indices = th.ones(input_size[0], input_size[1], dtype=th.bool, device= device).to(device)\n",
    "mask_time_indices = mask_time_indices.view(-1, input_size[1]).unsqueeze(0)\n",
    "xtrain_batched = xtrain.unsqueeze(0).to(device)\n",
    "results  = tmp(xtrain_batched, mask_time_indices)\n",
    "results"
   ]
  },
  {
   "cell_type": "code",
   "execution_count": 100,
   "metadata": {},
   "outputs": [
    {
     "name": "stdout",
     "output_type": "stream",
     "text": [
      "torch.Size([4, 1000, 192]) torch.Size([4, 1000]) torch.Size([4, 1000, 80])\n"
     ]
    }
   ],
   "source": [
    "#### Test for Masking\n",
    "model = BestRqFramework(encoder= ExampleEncoder(),\n",
    "                        num_temporal_dimension_reduction_steps=100,\n",
    "                        input_feature_size=80,\n",
    "                        encoder_hidden_size=20,\n",
    "                        num_code_books=10,\n",
    "                        mask_time= 10,\n",
    "                        stride_time=1,\n",
    "                        random_state=42,\n",
    "                        mask_prob=0.1,\n",
    "                        batch_size=200)\n",
    "\n",
    "\n",
    "inputs = th.randn(4, 1000, 80).to(device)\n",
    "    # `(batch size)` Number of available time steps per batch\n",
    "input_lengths = th.tensor([1000, 871, 389, 487]).to(device)\n",
    "\n",
    "input_values, idx = model(inputs, input_lengths)\n"
   ]
  },
  {
   "cell_type": "code",
   "execution_count": 43,
   "metadata": {},
   "outputs": [
    {
     "data": {
      "text/plain": [
       "<matplotlib.legend.Legend at 0x16ce5ba90>"
      ]
     },
     "execution_count": 43,
     "metadata": {},
     "output_type": "execute_result"
    },
    {
     "data": {
      "image/png": "[encoded data removed]",
      "text/plain": [
       "<Figure size 1500x600 with 1 Axes>"
      ]
     },
     "metadata": {},
     "output_type": "display_data"
    }
   ],
   "source": [
    "plt.figure(figsize=(15,6))\n",
    "for i in range(1):\n",
    "    plt.plot(input_values[1,i,:].detach().numpy(), label = 'Maské')\n",
    "    plt.plot(inputs[1, i ,:].detach().numpy(), label ='valeur origiinal')\n",
    "plt.legend()\n"
   ]
  },
  {
   "cell_type": "code",
   "execution_count": 49,
   "metadata": {},
   "outputs": [
    {
     "data": {
      "text/plain": [
       "torch.Size([1, 1000, 80])"
      ]
     },
     "execution_count": 49,
     "metadata": {},
     "output_type": "execute_result"
    }
   ],
   "source": [
    "inputs[idx].view(-1, 1000, 80).shape"
   ]
  },
  {
   "cell_type": "code",
   "execution_count": 111,
   "metadata": {},
   "outputs": [
    {
     "ename": "RuntimeError",
     "evalue": "Expected floating point type for target with class probabilities, got Long",
     "output_type": "error",
     "traceback": [
      "\u001b[0;31m---------------------------------------------------------------------------\u001b[0m",
      "\u001b[0;31mRuntimeError\u001b[0m                              Traceback (most recent call last)",
      "Cell \u001b[0;32mIn[111], line 3\u001b[0m\n\u001b[1;32m      1\u001b[0m input_values, idx\n\u001b[1;32m      2\u001b[0m loss \u001b[38;5;241m=\u001b[39m nn\u001b[38;5;241m.\u001b[39mfunctional\u001b[38;5;241m.\u001b[39mcross_entropy\n\u001b[0;32m----> 3\u001b[0m \u001b[43mloss\u001b[49m\u001b[43m(\u001b[49m\u001b[43minput_values\u001b[49m\u001b[38;5;241;43m.\u001b[39;49m\u001b[43mview\u001b[49m\u001b[43m(\u001b[49m\u001b[38;5;241;43m4\u001b[39;49m\u001b[43m,\u001b[49m\u001b[43m \u001b[49m\u001b[38;5;241;43m-\u001b[39;49m\u001b[38;5;241;43m1\u001b[39;49m\u001b[43m)\u001b[49m\u001b[43m,\u001b[49m\u001b[43m \u001b[49m\u001b[43midx\u001b[49m\u001b[43m)\u001b[49m\n",
      "File \u001b[0;32m~/Library/Caches/pypoetry/virtualenvs/dl-sleep-project-wfnrCJ-y-py3.10/lib/python3.10/site-packages/torch/nn/functional.py:3059\u001b[0m, in \u001b[0;36mcross_entropy\u001b[0;34m(input, target, weight, size_average, ignore_index, reduce, reduction, label_smoothing)\u001b[0m\n\u001b[1;32m   3057\u001b[0m \u001b[38;5;28;01mif\u001b[39;00m size_average \u001b[38;5;129;01mis\u001b[39;00m \u001b[38;5;129;01mnot\u001b[39;00m \u001b[38;5;28;01mNone\u001b[39;00m \u001b[38;5;129;01mor\u001b[39;00m reduce \u001b[38;5;129;01mis\u001b[39;00m \u001b[38;5;129;01mnot\u001b[39;00m \u001b[38;5;28;01mNone\u001b[39;00m:\n\u001b[1;32m   3058\u001b[0m     reduction \u001b[38;5;241m=\u001b[39m _Reduction\u001b[38;5;241m.\u001b[39mlegacy_get_string(size_average, reduce)\n\u001b[0;32m-> 3059\u001b[0m \u001b[38;5;28;01mreturn\u001b[39;00m \u001b[43mtorch\u001b[49m\u001b[38;5;241;43m.\u001b[39;49m\u001b[43m_C\u001b[49m\u001b[38;5;241;43m.\u001b[39;49m\u001b[43m_nn\u001b[49m\u001b[38;5;241;43m.\u001b[39;49m\u001b[43mcross_entropy_loss\u001b[49m\u001b[43m(\u001b[49m\u001b[38;5;28;43minput\u001b[39;49m\u001b[43m,\u001b[49m\u001b[43m \u001b[49m\u001b[43mtarget\u001b[49m\u001b[43m,\u001b[49m\u001b[43m \u001b[49m\u001b[43mweight\u001b[49m\u001b[43m,\u001b[49m\u001b[43m \u001b[49m\u001b[43m_Reduction\u001b[49m\u001b[38;5;241;43m.\u001b[39;49m\u001b[43mget_enum\u001b[49m\u001b[43m(\u001b[49m\u001b[43mreduction\u001b[49m\u001b[43m)\u001b[49m\u001b[43m,\u001b[49m\u001b[43m \u001b[49m\u001b[43mignore_index\u001b[49m\u001b[43m,\u001b[49m\u001b[43m \u001b[49m\u001b[43mlabel_smoothing\u001b[49m\u001b[43m)\u001b[49m\n",
      "\u001b[0;31mRuntimeError\u001b[0m: Expected floating point type for target with class probabilities, got Long"
     ]
    }
   ],
   "source": [
    "input_values, idx\n",
    "loss = nn.functional.cross_entropy\n",
    "loss(input_values.view(4, -1), idx)"
   ]
  },
  {
   "cell_type": "code",
   "execution_count": 113,
   "metadata": {},
   "outputs": [
    {
     "data": {
      "text/plain": [
       "tensor(0)"
      ]
     },
     "execution_count": 113,
     "metadata": {},
     "output_type": "execute_result"
    }
   ],
   "source": [
    "(input_values.view(4, -1) == idx).sum()"
   ]
  }
 ],
 "metadata": {
  "kernelspec": {
   "display_name": "dl-sleep-project-wfnrCJ-y-py3.10",
   "language": "python",
   "name": "python3"
  },
  "language_info": {
   "codemirror_mode": {
    "name": "ipython",
    "version": 3
   },
   "file_extension": ".py",
   "mimetype": "text/x-python",
   "name": "python",
   "nbconvert_exporter": "python",
   "pygments_lexer": "ipython3",
   "version": "3.10.6"
  }
 },
 "nbformat": 4,
 "nbformat_minor": 2
}
