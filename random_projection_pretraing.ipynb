{
 "cells": [
  {
   "cell_type": "code",
   "execution_count": 3,
   "metadata": {},
   "outputs": [],
   "source": [
    "import numpy as np\n",
    "import matplotlib.pyplot as plt\n",
    "import torch  as th\n",
    "import torch.autograd as autograd\n",
    "import torch.nn as nn\n",
    "import torch.nn.functional as F\n",
    "import torch.optim as optim\n",
    "import pickle\n",
    "import pandas as pd\n",
    "import seaborn as sns\n",
    "from tqdm import tqdm"
   ]
  },
  {
   "cell_type": "code",
   "execution_count": 47,
   "metadata": {},
   "outputs": [],
   "source": [
    "class SelfSupervisedProjection:\n",
    "    def __init__(self, input_dim, projection_dim, random_state=None):\n",
    "        self.random_state = random_state\n",
    "        self.input_dim = input_dim\n",
    "        self.projection_dim = projection_dim\n",
    "\n",
    "\n",
    "\n",
    "    def project(self, X):\n",
    "        th.manual_seed(self.random_state)\n",
    "        self.projection_matrix = th.randn(self.projection_dim, self.input_dim) / th.sqrt(th.tensor(self.input_dim, dtype=th.float))\n",
    "        projected_matrix = th.matmul(X, self.projection_matrix.T)\n",
    "        return projected_matrix\n",
    "\n",
    "\n",
    "\n",
    "\n",
    "    def fit(self, X):\n",
    "        projected_matrix = transform(X)\n",
    "        return projected_matrix\n",
    "\n",
    "\n",
    "    def predict(self, X):\n",
    "\n",
    "        return None\n"
   ]
  },
  {
   "cell_type": "code",
   "execution_count": 20,
   "metadata": {},
   "outputs": [
    {
     "data": {
      "text/plain": [
       "600"
      ]
     },
     "execution_count": 20,
     "metadata": {},
     "output_type": "execute_result"
    }
   ],
   "source": [
    "filepath = 'data/cassette-th-data.pck'\n",
    "xtrain, xvalid, ytrain, yvalid = np.load(filepath, allow_pickle = True)\n",
    "input_dim = xtrain[0].shape\n",
    "input_dim[0]"
   ]
  },
  {
   "cell_type": "code",
   "execution_count": 65,
   "metadata": {},
   "outputs": [
    {
     "data": {
      "text/plain": [
       "tensor([[  2.5422,  -6.7154,  13.2885,  ...,  -6.2785,  15.3018,   7.4020],\n",
       "        [  3.7200,  38.1613, -29.8826,  ...,  10.5134, -14.9686,  10.4928],\n",
       "        [ 14.5077, -15.3107,   7.1610,  ...,  18.9185, -24.2584,  -6.4876],\n",
       "        ...,\n",
       "        [199.6864, -60.1919, 146.5060,  ..., -44.3121,  54.3268,   6.6187],\n",
       "        [  8.7187, -11.0354,  -7.9052,  ...,   4.4007,   2.9942,   8.2963],\n",
       "        [  9.3255,   5.2186, -21.3133,  ...,   7.6667,  11.4504,  30.0089]])"
      ]
     },
     "execution_count": 65,
     "metadata": {},
     "output_type": "execute_result"
    }
   ],
   "source": [
    "test = SelfSupervisedProjection(input_dim=input_dim[0], projection_dim = 100, random_state= 42)\n",
    "a = test.project(xtrain)\n",
    "a"
   ]
  }
 ],
 "metadata": {
  "kernelspec": {
   "display_name": "dl-sleep-project-wfnrCJ-y-py3.10",
   "language": "python",
   "name": "python3"
  },
  "language_info": {
   "codemirror_mode": {
    "name": "ipython",
    "version": 3
   },
   "file_extension": ".py",
   "mimetype": "text/x-python",
   "name": "python",
   "nbconvert_exporter": "python",
   "pygments_lexer": "ipython3",
   "version": "3.10.6"
  }
 },
 "nbformat": 4,
 "nbformat_minor": 2
}
