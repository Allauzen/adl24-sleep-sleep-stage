{
 "cells": [
  {
   "cell_type": "code",
   "execution_count": 62,
   "metadata": {},
   "outputs": [],
   "source": [
    "import numpy as np\n",
    "import matplotlib.pyplot as plt\n",
    "import torch  as th\n",
    "import torch.autograd as autograd\n",
    "import torch.nn as nn\n",
    "import torch.nn.functional as F\n",
    "import torch.optim as optim\n",
    "import pickle\n",
    "import pandas as pd\n",
    "import seaborn as sns\n",
    "import random\n",
    "from tqdm import tqdm\n",
    "from transformers import Wav2Vec2Model\n",
    "from torch.utils.data import TensorDataset, DataLoader\n",
    "import copy"
   ]
  },
  {
   "cell_type": "code",
   "execution_count": 2,
   "metadata": {},
   "outputs": [],
   "source": [
    "###### Set the device to use Apple M1 GPU #######\n",
    "device = th.device('mps')"
   ]
  },
  {
   "cell_type": "code",
   "execution_count": 72,
   "metadata": {},
   "outputs": [],
   "source": [
    "class RandomProjection:\n",
    "    def __init__(self, input_dim, quantizer_dim, codebook_size, random_state=None, device = 'cpu'):\n",
    "        self.random_state = random_state\n",
    "        self.input_dim = input_dim\n",
    "        self.quantizer_dim = quantizer_dim\n",
    "        self.codebook_size = codebook_size\n",
    "        self.projection_matrix = None\n",
    "        self.codebook = None\n",
    "\n",
    "    def initialize_quantizer(self):\n",
    "        # Initialize projection matrix with Xavier initialization\n",
    "        self.projection_matrix = nn.init.xavier_uniform_(th.empty(self.quantizer_dim, self.input_dim)).to(device)\n",
    "\n",
    "        # Initialize codebook with standard normal distribution\n",
    "        self.codebook = nn.init.xavier_normal_(th.empty(self.codebook_size, self.quantizer_dim), gain=1.0).to(device)\n",
    "\n",
    "    def project(self, X):\n",
    "        th.manual_seed(self.random_state)\n",
    "\n",
    "        self.initialize_quantizer()\n",
    "\n",
    "        #Normalize data\n",
    "        X_normalized = X / th.norm(X, dim=1, keepdim=True)\n",
    "\n",
    "        print(self.projection_matrix.shape)\n",
    "\n",
    "        # Project input data using projection matrix\n",
    "        X_projected = th.matmul(X_normalized, self.projection_matrix.T)\n",
    "\n",
    "        return X_projected\n",
    "\n",
    "    def quantize(self, X):\n",
    "\n",
    "        X_projected = self.project(X)\n",
    "\n",
    "        print(X_projected.shape)\n",
    "\n",
    "        norm_x = th.norm(X_projected, dim = 1)\n",
    "\n",
    "\n",
    "        codebook = self.codebook.repeat(X_projected.shape[0], 1, 1)\n",
    "\n",
    "        norm_codebook = th.norm(codebook, dim = 1)\n",
    "\n",
    "        # Compute distances to codebook vectors\n",
    "        distances = norm_x - th.transpose(norm_codebook, 0, 1)\n",
    "\n",
    "        # Find nearest vector index\n",
    "        labels = th.argmin(distances, dim=0)\n",
    "\n",
    "        print(norm_x.shape, norm_codebook.shape, distances.shape)\n",
    "\n",
    "        return labels\n",
    "\n",
    "\n",
    "class ASREncoder(nn.Module):\n",
    "    def __init__(self, input_dim, num_classes, hidden_dim=256, num_layers=5, dropout=0.1):\n",
    "        super(ASREncoder, self).__init__()\n",
    "\n",
    "        # Feature extractor (Wav2Vec2 model)\n",
    "        self.feature_extractor = Wav2Vec2Model.from_pretrained(\"facebook/wav2vec2-base-960h\")\n",
    "        self.feature_extractor.freeze_feature_extractor()  # Freeze feature extractor\n",
    "\n",
    "        # Conformer layers\n",
    "        conformer_layers = []\n",
    "        for _ in range(num_layers):\n",
    "            conformer_layers.append(nn.TransformerEncoderLayer(\n",
    "                d_model=input_dim,\n",
    "                nhead=4,\n",
    "                dim_feedforward=hidden_dim,\n",
    "                dropout=dropout,\n",
    "                activation='gelu'\n",
    "            ))\n",
    "        self.conformer_encoder = nn.TransformerEncoder(nn.ModuleList(conformer_layers), num_layers=num_layers)\n",
    "\n",
    "        # Classifier head\n",
    "        self.classifier = nn.Linear(input_dim, num_classes)\n",
    "\n",
    "    def forward(self, x):\n",
    "        # Extract features using the pre-trained Wav2Vec2 model\n",
    "        features = self.feature_extractor(x).last_hidden_state\n",
    "\n",
    "        # Transpose features for Transformer input format (seq_len, batch_size, hidden_dim)\n",
    "        features = features.permute(1, 0, 2)\n",
    "\n",
    "        # Apply Conformer layers\n",
    "        features = self.conformer_encoder(features)\n",
    "\n",
    "        # Average pooling over time\n",
    "        pooled_features = torch.mean(features, dim=0)\n",
    "\n",
    "        # Classification\n",
    "        output = self.classifier(pooled_features)\n",
    "\n",
    "        return output\n",
    "\n",
    "class BESTRq_framework:\n",
    "    def __init__(self, input_dim, quantizer_dim, num_classes, hidden_dim, batch_size, codebook_size, num_time_steps, mask_prob):\n",
    "        self.quantizer = RandomProjection(input_dim, quantizer_dim, codebook_size)\n",
    "        self.asr_encoder = ASREncoder(quantizer_dim, hidden_dim, num_classes)\n",
    "        self.loss_function = nn.CrossEntropyLoss()\n",
    "        self.batch_size = batch_size\n",
    "        self.num_time_steps = num_time_steps\n",
    "        self.mask_prob = mask_prob\n",
    "        self.optimizer = None\n",
    "\n",
    "    def initialize_optimizer(self, learning_rate):\n",
    "        self.optimizer = optim.Adam(self.asr_encoder.parameters(), lr=learning_rate)\n",
    "\n",
    "\n",
    "    def split_batch(self, X, y):\n",
    "        dataset = TensorDataset(X, y)\n",
    "        data_loader = DataLoader(dataset, batch_size= self.batch_size, shuffle=True)\n",
    "        return data_loader\n",
    "\n",
    "    def add_noise_and_mask(self, X, noise_mean=0, noise_std=0.1):\n",
    "        \"\"\"\n",
    "        Add noise to masked values in the tensor.\n",
    "\n",
    "        Args:\n",
    "        - tensor (torch.Tensor): Input tensor of shape (n_batch, length).\n",
    "        - mask_prob (float): Probability of masking a value.\n",
    "        - noise_mean (float): Mean of the normal distribution for noise.\n",
    "        - noise_std (float): Standard deviation of the normal distribution for noise.\n",
    "\n",
    "        Returns:\n",
    "        - torch.Tensor: Tensor with masked values replaced by noise.\n",
    "        \"\"\"\n",
    "        mask = th.rand(X.shape) < self.mask_prob\n",
    "        noise = th.normal(mean=noise_mean, std=noise_std, size=X.shape)\n",
    "        masked_X = th.clone(X)\n",
    "        masked_X[mask] = noise[mask]\n",
    "        return masked_X\n",
    "\n",
    "\n",
    "    def pretrain(self, xtrain, ytrain, xvalid, yvalid, epochs=10, batch_size=32):\n",
    "        # Initialize quantizer\n",
    "        self.quantizer.initialize_quantizer()\n",
    "        trainloader = self.splitbatch(xtrain, ytrain)\n",
    "        validloader = self.splitbatch(xvalid, yvalid)\n",
    "\n",
    "        # Iterate over epochs\n",
    "        for epoch in range(epochs):\n",
    "            epoch_loss = 0.0\n",
    "\n",
    "            for inputs, labels in trainloader:\n",
    "\n",
    "                # Zero gradients\n",
    "                self.optimizer.zero_grad()\n",
    "\n",
    "                # Forward pass\n",
    "                labels = self.quantizer.quantize(inputs)\n",
    "                predictions = self.asr_encoder(labels)\n",
    "\n",
    "                # Compute loss\n",
    "                loss = self.loss_function(predictions, labels)\n",
    "\n",
    "                # Backward pass\n",
    "                loss.backward()\n",
    "\n",
    "                # Update weights\n",
    "                self.optimizer.step()\n",
    "\n",
    "                epoch_loss += loss.item()\n",
    "\n",
    "            # Print epoch loss\n",
    "            print(f\"Pretraining Epoch {epoch+1}/{epochs}, Loss: {epoch_loss / len(X_tensor)}\")\n"
   ]
  },
  {
   "cell_type": "code",
   "execution_count": 65,
   "metadata": {},
   "outputs": [
    {
     "data": {
      "text/plain": [
       "600"
      ]
     },
     "execution_count": 65,
     "metadata": {},
     "output_type": "execute_result"
    }
   ],
   "source": [
    "filepath = 'data/cassette-th-data.pck'\n",
    "xtrain, xvalid, ytrain, yvalid = np.load(filepath, allow_pickle = True)\n",
    "input_dim = xtrain[0].shape\n",
    "input_dim[0]"
   ]
  },
  {
   "cell_type": "code",
   "execution_count": 34,
   "metadata": {},
   "outputs": [
    {
     "name": "stdout",
     "output_type": "stream",
     "text": [
      "torch.Size([100, 600])\n",
      "torch.Size([175995, 100])\n",
      "torch.Size([175995]) torch.Size([175995, 100]) torch.Size([100, 175995])\n"
     ]
    },
    {
     "data": {
      "text/plain": [
       "tensor([81, 81, 81,  ..., 81, 81, 81], device='mps:0')"
      ]
     },
     "execution_count": 34,
     "metadata": {},
     "output_type": "execute_result"
    }
   ],
   "source": [
    "tmp = RandomProjection(input_dim= 600, quantizer_dim= 100, codebook_size= 20,random_state= 2673834267383, device = device)\n",
    "tmp.quantize(xtrain.to(device))"
   ]
  },
  {
   "cell_type": "code",
   "execution_count": 103,
   "metadata": {},
   "outputs": [
    {
     "data": {
      "text/plain": [
       "tensor([467, 467, 467, 467, 467, 467, 467, 467, 467, 467, 467, 467, 467, 467,\n",
       "        467, 467, 467, 467, 467, 467, 467, 467, 467, 467, 467, 467, 467, 467,\n",
       "        467, 467, 467, 467, 467, 467, 467, 467, 467, 467, 467, 467, 467, 467,\n",
       "        467, 467, 467, 467, 467, 467, 467, 467, 467, 467, 467, 467, 467, 467,\n",
       "        467, 467, 467, 467, 467, 467, 467, 467, 467, 467, 467, 467, 467, 467,\n",
       "        467, 467, 467, 467, 467, 467, 467, 467, 467, 467, 467, 467, 467, 467,\n",
       "        467, 467, 467, 467, 467, 467, 467, 467, 467, 467, 467, 467, 467, 467,\n",
       "        467, 467, 467, 467, 467, 467, 467, 467, 467, 467, 467, 467, 467, 467,\n",
       "        467, 467, 467, 467, 467, 467, 467, 467, 467, 467, 467, 467, 467, 467,\n",
       "        467, 467, 467, 467, 467, 467, 467, 467, 467, 467, 467, 467, 467, 467,\n",
       "        467, 467, 467, 467, 467, 467, 467, 467, 467, 467, 467, 467, 467, 467,\n",
       "        467, 467, 467, 467, 467, 467, 467, 467, 467, 467, 467, 467, 467, 467,\n",
       "        467, 467, 467, 467, 467, 467, 467, 467, 467, 467, 467, 467, 467, 467,\n",
       "        467, 467, 467, 467, 467, 467, 467, 467, 467, 467, 467, 467, 467, 467,\n",
       "        467, 467, 467, 467, 467, 467, 467, 467, 467, 467, 467, 467, 467, 467,\n",
       "        467, 467, 467, 467, 467, 467, 467, 467, 467, 467, 467, 467, 467, 467,\n",
       "        467, 467, 467, 467, 467, 467, 467, 467, 467, 467, 467, 467, 467, 467,\n",
       "        467, 467, 467, 467, 467, 467, 467, 467, 467, 467, 467, 467, 467, 467,\n",
       "        467, 467, 467, 467, 467, 467, 467, 467, 467, 467, 467, 467, 467, 467,\n",
       "        467, 467, 467, 467, 467, 467, 467, 467, 467, 467, 467, 467, 467, 467,\n",
       "        467, 467, 467, 467, 467, 467, 467, 467, 467, 467, 467, 467, 467, 467,\n",
       "        467, 467, 467, 467, 467, 467])"
      ]
     },
     "execution_count": 103,
     "metadata": {},
     "output_type": "execute_result"
    }
   ],
   "source": [
    "tmp = RandomProjection(input_dim= 600, quantizer_dim= 500, codebook_size= 1000,random_state= 16722)\n",
    "tmp.quantize(xtrain[:300])"
   ]
  },
  {
   "cell_type": "code",
   "execution_count": 42,
   "metadata": {},
   "outputs": [
    {
     "ename": "NameError",
     "evalue": "name 'SelfSupervisedRandomProjectionQuantizer' is not defined",
     "output_type": "error",
     "traceback": [
      "\u001b[0;31m---------------------------------------------------------------------------\u001b[0m",
      "\u001b[0;31mNameError\u001b[0m                                 Traceback (most recent call last)",
      "Cell \u001b[0;32mIn[42], line 1\u001b[0m\n\u001b[0;32m----> 1\u001b[0m test \u001b[38;5;241m=\u001b[39m \u001b[43mSelfSupervisedRandomProjectionQuantizer\u001b[49m(input_dim\u001b[38;5;241m=\u001b[39m \u001b[38;5;241m600\u001b[39m, quantizer_dim \u001b[38;5;241m=\u001b[39m \u001b[38;5;241m100\u001b[39m, hidden_dim\u001b[38;5;241m=\u001b[39m \u001b[38;5;241m10\u001b[39m, num_classes\u001b[38;5;241m=\u001b[39m\u001b[38;5;241m5\u001b[39m, batch_size\u001b[38;5;241m=\u001b[39m\u001b[38;5;241m200\u001b[39m, codebook_size\u001b[38;5;241m=\u001b[39m \u001b[38;5;241m100\u001b[39m)\n",
      "\u001b[0;31mNameError\u001b[0m: name 'SelfSupervisedRandomProjectionQuantizer' is not defined"
     ]
    }
   ],
   "source": [
    "test = SelfSupervisedRandomProjectionQuantizer(input_dim= 600, quantizer_dim = 100, hidden_dim= 10, num_classes=5, batch_size=200, codebook_size= 100)"
   ]
  },
  {
   "cell_type": "code",
   "execution_count": 88,
   "metadata": {},
   "outputs": [
    {
     "data": {
      "text/plain": [
       "<torch.utils.data.dataloader.DataLoader at 0x2b116ec20>"
      ]
     },
     "execution_count": 88,
     "metadata": {},
     "output_type": "execute_result"
    }
   ],
   "source": [
    "mini_batchs = test.split_batch(xtrain, ytrain)\n",
    "mini_batchs\n"
   ]
  },
  {
   "cell_type": "code",
   "execution_count": 83,
   "metadata": {},
   "outputs": [
    {
     "name": "stderr",
     "output_type": "stream",
     "text": [
      "Some weights of Wav2Vec2Model were not initialized from the model checkpoint at facebook/wav2vec2-base-960h and are newly initialized: ['wav2vec2.encoder.pos_conv_embed.conv.parametrizations.weight.original0', 'wav2vec2.encoder.pos_conv_embed.conv.parametrizations.weight.original1', 'wav2vec2.masked_spec_embed']\n",
      "You should probably TRAIN this model on a down-stream task to be able to use it for predictions and inference.\n"
     ]
    }
   ],
   "source": [
    "#### Test for Masking\n",
    "\n",
    "BestRq = BESTRq_framework(input_dim = 600, quantizer_dim= 100, num_classes=5, hidden_dim= 4, batch_size = 10, codebook_size= 15, num_time_steps= 30, mask_prob= 0.1)"
   ]
  },
  {
   "cell_type": "code",
   "execution_count": 84,
   "metadata": {},
   "outputs": [],
   "source": [
    "noisy_signal = BestRq.add_noise_and_mask(xtrain[0])"
   ]
  },
  {
   "cell_type": "code",
   "execution_count": 85,
   "metadata": {},
   "outputs": [
    {
     "data": {
      "text/plain": [
       "tensor(534)"
      ]
     },
     "execution_count": 85,
     "metadata": {},
     "output_type": "execute_result"
    }
   ],
   "source": [
    "(xtrain[0] == noisy_signal).sum()\n"
   ]
  },
  {
   "cell_type": "code",
   "execution_count": 86,
   "metadata": {},
   "outputs": [
    {
     "data": {
      "text/plain": [
       "tensor([-2.6508e+00, -6.7729e+00, -4.7118e+00, -8.3187e+00, -7.2882e+00,\n",
       "        -5.8974e-01, -5.8974e-01, -6.2576e+00, -3.6813e+00, -9.7663e-03,\n",
       "        -1.2956e+01,  3.4341e-03, -1.1410e+01, -7.8034e+00, -3.6813e+00,\n",
       "         2.5018e+00, -4.7118e+00, -6.2576e+00, -1.3471e+01,  6.4575e-02,\n",
       "        -9.8645e+00, -8.3187e+00, -7.2882e+00, -9.8645e+00, -1.3471e+01,\n",
       "        -1.6563e+01, -2.2710e-02, -1.2441e+01, -1.6048e+01, -1.8109e+01,\n",
       "        -1.3471e+01, -1.4502e+01, -1.6048e+01, -8.8339e+00, -1.3471e+01,\n",
       "        -6.2576e+00,  4.4078e-01,  2.5018e+00,  1.9866e+00,  1.9866e+00,\n",
       "        -7.4481e-02,  1.3452e-02, -1.2956e+01, -1.2956e+01, -4.1966e+00,\n",
       "         1.4713e+00, -5.8974e-01, -7.4481e-02, -6.2576e+00, -6.2576e+00,\n",
       "        -7.8034e+00, -8.3187e+00, -6.7729e+00,  1.9866e+00,  8.1697e+00,\n",
       "         1.4868e+01,  1.2807e+01,  1.4353e+01,  4.5629e+00, -6.2576e+00,\n",
       "        -8.3187e+00, -5.7424e+00, -6.7729e+00, -6.7729e+00, -5.7424e+00,\n",
       "        -5.8974e-01,  5.5934e+00,  1.4713e+00, -4.7118e+00, -7.4481e-02,\n",
       "         1.4713e+00, -7.4481e-02, -2.1355e+00, -3.1661e+00, -7.4481e-02,\n",
       "         3.0171e+00,  9.7155e+00,  1.9866e+00,  2.5018e+00, -1.6203e+00,\n",
       "        -1.6203e+00,  2.1948e-03, -5.2271e+00, -9.8645e+00,  6.6652e-02,\n",
       "        -1.3811e-01,  2.0962e-01,  4.0476e+00, -1.4515e-01,  9.5604e-01,\n",
       "        -6.7729e+00, -1.4502e+01, -1.6048e+01, -2.5838e+01, -2.1716e+01,\n",
       "        -7.8034e+00,  1.9866e+00,  3.0171e+00, -7.4481e-02, -7.4481e-02,\n",
       "        -1.9970e-02, -8.8339e+00, -1.1926e+01, -1.1926e+01, -1.9584e-01,\n",
       "        -6.2576e+00, -3.6813e+00, -8.8339e+00,  1.1678e-01, -1.1410e+01,\n",
       "        -1.2441e+01, -1.1926e+01, -1.5017e+01, -1.6203e+00, -1.1050e+00,\n",
       "         1.2292e+01, -7.4481e-02,  3.0171e+00, -3.6813e+00, -1.1168e-01,\n",
       "        -7.8034e+00, -5.7424e+00, -1.5017e+01, -1.1410e+01,  5.3604e-02,\n",
       "        -1.8109e+01, -1.2441e+01, -1.5017e+01, -1.5532e+01,  6.8665e-02,\n",
       "        -1.0380e+01,  1.2338e-01, -1.3987e+01,  6.8642e-02, -1.6984e-01,\n",
       "        -1.3987e+01, -3.6813e+00, -3.6813e+00,  4.4078e-01,  6.7642e-02,\n",
       "        -3.6813e+00, -6.7729e+00, -1.8624e+01, -1.2441e+01, -2.3261e+01,\n",
       "        -1.0380e+01, -1.2441e+01, -9.3492e+00, -5.2271e+00, -8.8339e+00,\n",
       "        -1.5532e+01, -1.5532e+01, -2.3777e+01, -9.8645e+00, -5.2271e+00,\n",
       "         1.9866e+00,  6.6239e+00,  1.0231e+01,  1.4713e+00, -1.0895e+01,\n",
       "         1.9419e-01, -9.3492e+00, -9.8645e+00, -4.1966e+00, -1.0380e+01,\n",
       "        -4.1966e+00, -5.8974e-01, -8.3187e+00, -3.6813e+00, -1.2441e+01,\n",
       "        -7.2882e+00,  4.4078e-01, -7.4481e-02, -5.8974e-01,  1.9866e+00,\n",
       "         9.2002e+00,  3.5324e+00,  7.1392e+00, -1.1050e+00, -3.6813e+00,\n",
       "        -6.7729e+00, -7.2882e+00, -7.2882e+00, -4.1966e+00, -6.7729e+00,\n",
       "        -5.2271e+00, -4.7118e+00, -9.8645e+00, -5.7424e+00, -1.0895e+01,\n",
       "        -8.3187e+00, -6.2576e+00, -1.0895e+01, -7.0620e-03,  1.7063e-02,\n",
       "        -8.8339e+00, -8.7700e-02, -2.6508e+00, -6.7729e+00, -7.1060e-02,\n",
       "        -7.8034e+00, -8.8339e+00, -1.6563e+01, -1.9654e+01, -1.5017e+01,\n",
       "        -6.2576e+00,  4.0466e-02, -5.7424e+00, -3.6813e+00, -1.0895e+01,\n",
       "        -1.5017e+01,  8.7603e-03, -1.7078e+01, -1.2441e+01, -3.6813e+00,\n",
       "         4.0476e+00,  8.1697e+00, -1.0751e-01, -2.1355e+00, -5.8706e-02,\n",
       "        -6.7729e+00, -4.7118e+00, -2.6508e+00, -3.6813e+00, -4.7118e+00,\n",
       "         1.9866e+00,  5.0781e+00,  1.4713e+00,  2.2938e-01, -9.8645e+00,\n",
       "        -6.7729e+00, -1.0895e+01, -4.1966e+00,  4.5629e+00,  3.5324e+00,\n",
       "        -1.1050e+00, -5.8974e-01,  3.5324e+00,  2.5018e+00,  1.4713e+00,\n",
       "        -2.1355e+00, -4.1966e+00,  1.9866e+00,  3.9738e-03, -6.7729e+00,\n",
       "        -7.2882e+00,  7.7446e-02, -7.4481e-02,  4.4078e-01, -4.1966e+00,\n",
       "        -5.7424e+00, -6.2576e+00, -6.2576e+00, -1.2441e+01, -6.2576e+00,\n",
       "        -4.7118e+00,  1.4713e+00,  4.0476e+00,  3.9899e-02, -1.6920e-01,\n",
       "        -5.7424e+00, -1.1410e+01, -1.4502e+01, -1.2441e+01, -1.8217e-02,\n",
       "        -2.1355e+00,  1.4713e+00, -2.1355e+00, -6.2576e+00, -3.6813e+00,\n",
       "        -8.3187e+00, -6.7729e+00, -4.1966e+00, -8.3187e+00, -2.6508e+00,\n",
       "        -2.1355e+00, -1.4947e-01,  9.0298e-02,  3.5324e+00,  9.5604e-01,\n",
       "        -1.1050e+00, -1.1050e+00, -8.3187e+00, -1.1050e+00,  5.5934e+00,\n",
       "        -1.6203e+00,  3.0171e+00,  9.2518e-02, -7.4481e-02, -3.6813e+00,\n",
       "        -5.2271e+00, -7.4481e-02, -2.1355e+00, -3.6813e+00,  1.4713e+00,\n",
       "        -7.4481e-02,  8.5534e-02,  1.4713e+00,  5.5934e+00,  4.4078e-01,\n",
       "         9.5604e-01, -4.4584e-02, -3.1661e+00, -4.1966e+00, -5.2271e+00,\n",
       "        -7.8034e+00, -4.7118e+00, -6.2576e+00, -4.1966e+00, -2.6508e+00,\n",
       "        -3.1661e+00, -1.1410e+01, -1.7078e+01, -1.4502e+01, -1.0380e+01,\n",
       "        -4.1966e+00,  2.5018e+00,  4.4078e-01, -7.4481e-02, -5.2271e+00,\n",
       "         1.3559e-01, -1.5532e+01, -9.8645e+00, -8.8339e+00, -1.6048e+01,\n",
       "        -9.3492e+00, -6.2576e+00, -9.3492e+00, -1.3471e+01, -1.7078e+01,\n",
       "        -1.3987e+01, -1.5017e+01, -6.2576e+00, -1.2441e+01,  8.6026e-03,\n",
       "         7.1392e+00, -3.1661e+00, -6.2576e+00,  4.0002e-02, -1.1410e+01,\n",
       "        -8.8339e+00, -1.0380e+01, -1.4502e+01,  6.4022e-02, -1.0895e+01,\n",
       "        -1.5532e+01, -1.3471e+01,  8.7625e-02, -6.2576e+00, -8.3187e+00,\n",
       "        -1.1050e+00, -2.6508e+00, -7.8034e+00, -1.1410e+01, -7.8034e+00,\n",
       "        -7.2882e+00, -1.6203e+00, -1.6203e+00, -2.6508e+00,  2.5018e+00,\n",
       "         3.3424e-02,  1.8672e-02, -7.2882e+00, -1.3471e+01, -1.7593e+01,\n",
       "        -8.3187e+00, -8.3187e+00, -6.7729e+00, -7.2882e+00, -5.7424e+00,\n",
       "        -6.2576e+00,  1.9529e-01, -1.9654e+01, -1.5532e+01, -7.6207e-02,\n",
       "        -8.8339e+00,  4.5629e+00,  6.1087e+00, -5.8974e-01, -9.3492e+00,\n",
       "        -1.1926e+01, -1.0380e+01, -5.2271e+00, -7.4481e-02,  1.4713e+00,\n",
       "        -1.1050e+00,  1.9866e+00, -4.1966e+00, -9.3492e+00, -6.2576e+00,\n",
       "        -1.7935e-02, -3.6813e+00, -3.1661e+00, -1.1050e+00,  9.5604e-01,\n",
       "        -7.4481e-02, -7.4481e-02, -2.6508e+00, -3.1661e+00, -4.1966e+00,\n",
       "        -6.2576e+00, -6.2576e+00,  1.4713e+00, -3.6813e+00, -6.7729e+00,\n",
       "        -9.3492e+00, -7.2882e+00,  4.4078e-01, -3.1661e+00, -1.1926e+01,\n",
       "        -6.7729e+00, -9.8645e+00, -1.0895e+01, -1.2956e+01, -1.1926e+01,\n",
       "        -4.7118e+00, -5.8974e-01, -7.4481e-02, -3.1661e+00, -1.6203e+00,\n",
       "        -5.7424e+00, -8.8339e+00, -1.5532e+01, -7.2882e+00, -6.2576e+00,\n",
       "        -4.7118e+00,  6.1087e+00,  1.4713e+00, -2.6508e+00, -6.7729e+00,\n",
       "        -6.7729e+00, -7.2882e+00, -6.2576e+00, -2.6508e+00,  9.2002e+00,\n",
       "         5.5934e+00,  8.6850e+00,  5.0781e+00,  3.0171e+00, -1.6203e+00,\n",
       "         1.0985e-01,  5.5934e+00, -1.6203e+00, -6.2576e+00,  1.4713e+00,\n",
       "         6.6239e+00, -2.1355e+00, -8.3187e+00,  4.1175e-03, -7.8034e+00,\n",
       "        -2.1355e+00, -1.1050e+00, -3.6813e+00, -3.1661e+00, -6.2576e+00,\n",
       "        -7.2882e+00,  4.4078e-01,  1.0231e+01,  1.4713e+00,  6.6239e+00,\n",
       "         5.0781e+00,  2.5018e+00,  2.5018e+00, -7.8034e+00, -1.6203e+00,\n",
       "        -1.6048e+01,  3.0171e+00,  4.5629e+00, -7.2882e+00,  4.0476e+00,\n",
       "        -1.3471e+01, -1.6449e-01, -2.0685e+01, -1.2441e+01, -9.8645e+00,\n",
       "         1.4713e+00,  3.5324e+00,  6.6239e+00,  7.6545e+00,  1.4713e+00,\n",
       "        -1.0895e+01, -1.4502e+01, -1.0380e+01, -1.2441e+01, -7.2882e+00,\n",
       "        -1.0380e+01, -4.7118e+00, -3.6813e+00, -8.8339e+00, -1.2956e+01,\n",
       "        -8.8339e+00, -1.0380e+01, -1.0380e+01,  2.6835e-02, -5.7424e+00,\n",
       "        -1.6203e+00,  3.0171e+00, -5.8974e-01, -1.6203e+00, -2.1355e+00,\n",
       "        -7.8034e+00, -5.7424e+00,  2.5018e+00,  4.4078e-01, -5.2271e+00,\n",
       "        -1.6048e+01, -1.0895e+01, -1.0895e+01, -4.5668e-02, -9.3492e+00,\n",
       "        -3.1661e+00, -7.4481e-02, -5.8974e-01, -1.1050e+00, -6.7729e+00,\n",
       "        -9.8866e-02, -5.8974e-01, -7.4481e-02, -2.5675e-02, -1.6203e+00,\n",
       "        -1.6203e+00, -5.2456e-02, -5.2271e+00, -1.5532e+01, -1.2956e+01,\n",
       "        -1.3471e+01, -1.1926e+01, -7.2882e+00, -4.7118e+00, -1.1926e+01,\n",
       "        -8.8339e+00, -1.5017e+01, -7.2882e+00, -6.2576e+00, -5.7424e+00,\n",
       "        -1.6203e+00,  4.5629e+00,  5.0781e+00,  5.5934e+00,  9.5604e-01,\n",
       "        -1.1050e+00, -5.7424e+00, -4.7118e+00, -2.6508e+00, -1.4207e-01,\n",
       "         1.4713e+00,  1.9866e+00, -1.4502e+01, -1.3471e+01, -1.0380e+01,\n",
       "        -5.2271e+00, -6.2576e+00,  9.2316e-02,  6.3907e-02,  1.2711e-01,\n",
       "         4.4078e-01, -6.2576e+00, -1.1050e+00, -3.1661e+00,  3.5347e-02,\n",
       "        -6.7729e+00, -6.2576e+00, -5.2271e+00, -1.3471e+01,  2.9650e-02,\n",
       "        -9.8645e+00, -6.7729e+00, -2.1355e+00, -3.6813e+00, -2.6508e+00,\n",
       "         2.5018e+00, -3.1661e+00, -9.8645e+00, -6.7729e+00, -1.6203e+00,\n",
       "         4.5629e+00,  4.4078e-01,  1.9866e+00,  4.5629e+00,  5.0781e+00,\n",
       "        -5.8974e-01, -4.4749e-02, -6.7729e+00, -1.1410e+01, -6.7729e+00,\n",
       "        -8.3187e+00, -7.4481e-02,  9.5604e-01,  1.1482e-01, -9.8645e+00,\n",
       "        -1.4502e+01, -1.7593e+01, -1.2441e+01, -6.7729e+00, -6.2576e+00,\n",
       "        -6.7729e+00, -5.7424e+00, -6.7729e+00, -8.3187e+00, -6.2576e+00])"
      ]
     },
     "execution_count": 86,
     "metadata": {},
     "output_type": "execute_result"
    }
   ],
   "source": [
    "noisy_signal"
   ]
  },
  {
   "cell_type": "code",
   "execution_count": 18,
   "metadata": {},
   "outputs": [
    {
     "data": {
      "text/plain": [
       "tensor([[ -2.6508,  -6.7729,  -4.7118,  ...,  -6.7729,  -8.3187,  -6.2576],\n",
       "        [-23.7766, -27.8987,  25.1734,  ...,  -2.6508, -26.8681, -22.7460],\n",
       "        [-12.4408, -31.5055, -13.4713,  ...,   7.1392,   7.6545,   2.5018]])"
      ]
     },
     "execution_count": 18,
     "metadata": {},
     "output_type": "execute_result"
    }
   ],
   "source": [
    "xtrain[:3]"
   ]
  },
  {
   "cell_type": "code",
   "execution_count": 87,
   "metadata": {},
   "outputs": [
    {
     "data": {
      "text/plain": [
       "[<matplotlib.lines.Line2D at 0x29a657d30>]"
      ]
     },
     "execution_count": 87,
     "metadata": {},
     "output_type": "execute_result"
    },
    {
     "data": {
      "image/png": "[encoded data removed]",
      "text/plain": [
       "<Figure size 640x480 with 1 Axes>"
      ]
     },
     "metadata": {},
     "output_type": "display_data"
    }
   ],
   "source": [
    "plt.plot(noisy_signal)\n",
    "plt.plot(xtrain[0])"
   ]
  },
  {
   "cell_type": "code",
   "execution_count": 51,
   "metadata": {},
   "outputs": [],
   "source": [
    "input_lengths = xtrain[:30].view(10,-1, 600)[:, 0, 0]"
   ]
  },
  {
   "cell_type": "code",
   "execution_count": 53,
   "metadata": {},
   "outputs": [
    {
     "data": {
      "text/plain": [
       "tensor([ -2.6508,  -0.5897, -10.3797,   1.9866, -12.4408,  35.9939,  -0.5897,\n",
       "        -49.5397, -16.0476, -11.9255])"
      ]
     },
     "execution_count": 53,
     "metadata": {},
     "output_type": "execute_result"
    }
   ],
   "source": [
    "input_lengths"
   ]
  },
  {
   "cell_type": "code",
   "execution_count": 7,
   "metadata": {},
   "outputs": [
    {
     "data": {
      "text/plain": [
       "(tensor([[ -2.6508,  -6.7729,  -4.7118,  ...,  -6.7729,  -8.3187,  -6.2576],\n",
       "         [-23.7766, -27.8987,  25.1734,  ...,  -2.6508, -26.8681, -22.7460],\n",
       "         [-12.4408, -31.5055, -13.4713,  ...,   7.1392,   7.6545,   2.5018],\n",
       "         ...,\n",
       "         [ 20.3521,  15.5853,  38.9426,  ...,  30.3624,  29.4090,  30.8391],\n",
       "         [ 13.2020,   8.4352,   7.0051,  ...,  -4.9118,  -2.0518,  -4.9118],\n",
       "         [-21.1189, -12.5387, -20.1656,  ...,  -4.4352,  -1.5751,  -0.1451]]),\n",
       " tensor([2, 0, 0,  ..., 0, 2, 2], dtype=torch.int32))"
      ]
     },
     "execution_count": 7,
     "metadata": {},
     "output_type": "execute_result"
    }
   ],
   "source": [
    "xtrain, ytrain"
   ]
  }
 ],
 "metadata": {
  "kernelspec": {
   "display_name": "dl-sleep-project-wfnrCJ-y-py3.10",
   "language": "python",
   "name": "python3"
  },
  "language_info": {
   "codemirror_mode": {
    "name": "ipython",
    "version": 3
   },
   "file_extension": ".py",
   "mimetype": "text/x-python",
   "name": "python",
   "nbconvert_exporter": "python",
   "pygments_lexer": "ipython3",
   "version": "3.10.6"
  }
 },
 "nbformat": 4,
 "nbformat_minor": 2
}
